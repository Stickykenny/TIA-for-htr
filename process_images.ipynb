{
 "cells": [
  {
   "cell_type": "code",
   "execution_count": 44,
   "id": "edd50bc1",
   "metadata": {
    "scrolled": true
   },
   "outputs": [],
   "source": [
    "from kraken import blla\n",
    "from kraken import rpred\n",
    "from kraken.lib import models\n",
    "from PIL import Image\n",
    "import cv2 as cv\n",
    "import json\n",
    "import numpy as np\n",
    "from matplotlib import pyplot as plt\n",
    "import os\n",
    "\n",
    "model_path = 'KrakenModel/HTR-United-Manu_McFrench.mlmodel'\n",
    "model = models.load_any(model_path)"
   ]
  },
  {
   "cell_type": "code",
   "execution_count": 45,
   "id": "cb84e359",
   "metadata": {},
   "outputs": [],
   "source": [
    "main_dir = \"test/oneFile/extract_image\"\n",
    "\n",
    "# OCR all files inside\n",
    "\n",
    "def process_images(main_dir, ocr = False, crop = False) :\n",
    "    image_extension = (\".jpg\", \".png\", \".svg\", \"jpeg\")\n",
    "    for (dirpath, subdirnames, filenames) in os.walk(main_dir):\n",
    "        for filename in filenames :\n",
    "            if not filename.lower().endswith(image_extension) : \n",
    "                continue\n",
    "            filepath = dirpath+os.sep+filename\n",
    "            print(\"Processing : \"+filepath)\n",
    "            im = Image.open(filepath)\n",
    "\n",
    "\n",
    "            # Segmentations and predictions\n",
    "            baseline_seg = blla.segment(im) # Json\n",
    "            \n",
    "            \n",
    "            if ocr :\n",
    "                # https://kraken.re/main/api.html#recognition\n",
    "                ocr_img(model, im, baseline_seg)\n",
    "\n",
    "                \n",
    "            # Cropping segmented text\n",
    "            cropping(baseline_seg, filepath, predictions, crop)\n",
    "\n",
    "            im.close()\n",
    "            print(\"Done processing\")\n",
    "            return None"
   ]
  },
  {
   "cell_type": "code",
   "execution_count": 46,
   "id": "0003d73a",
   "metadata": {},
   "outputs": [],
   "source": [
    "def ocr_img(model, im, baseline_seg) :\n",
    "    ocr_dir = 'tmp'+os.sep+'ocr_result'\n",
    "    os.makedirs(ocr_dir, exist_ok=True)\n",
    "    \n",
    "    # https://kraken.re/main/api.html#recognition\n",
    "    predictions = [record for record in rpred.rpred(model, im, baseline_seg)]\n",
    "\n",
    "    with open(ocr_dir+os.sep+filename[:-4]+'_ocr.txt', 'w') as f:\n",
    "        for record in predictions :\n",
    "            #print(record.prediction)\n",
    "            f.write(record.prediction+\"\\n\")\n",
    "        print(\"Created \"+ocr_dir+os.sep+filename[:-4]+'_ocr.txt')\n",
    "    "
   ]
  },
  {
   "cell_type": "code",
   "execution_count": 47,
   "id": "829a1296",
   "metadata": {
    "scrolled": true
   },
   "outputs": [],
   "source": [
    "# Cropping segmented text\n",
    "def cropping(json_data, filepath, predictions, crop =False) :\n",
    "    \n",
    "    img = cv.imread(filepath, cv.IMREAD_COLOR)\n",
    "    filename = filepath.split(os.sep)[-1]\n",
    "    \n",
    "    cropping_dir = \"cropped\"+os.sep+filename\n",
    "    segmented_img_dir = \"tmp\"+os.sep+\"segmented\"\n",
    "    os.makedirs(cropping_dir, exist_ok=True)\n",
    "    os.makedirs(segmented_img_dir, exist_ok=True)\n",
    "    \n",
    "    \n",
    "    name_iterator = 1\n",
    "    \n",
    "    for line in json_data[\"lines\"]:\n",
    "\n",
    "        # Baselines\n",
    "        baselines = line[\"baseline\"]\n",
    "        for i in range(1,len(baselines)):\n",
    "            img = cv.line(img, baselines[i-1],\n",
    "                          baselines[i], (0, 0, 255), 5)\n",
    "\n",
    "        # Boundaries\n",
    "        boundaries = line[\"boundary\"]\n",
    "        x_min = x_max = boundaries[0][0] \n",
    "        y_min = y_max = boundaries[0][1] \n",
    "        for i in range(1, len(boundaries)):\n",
    "            img = cv.line(img, boundaries[i-1],\n",
    "                          boundaries[i], (255, 0, 0, 0.25), 5)\n",
    "            x = boundaries[i][0]\n",
    "            y = boundaries[i][1]\n",
    "            x_min = (x if x < x_min else x_min)\n",
    "            x_max = (x if x > x_max else x_max)\n",
    "            y_min = (y if y < y_min else y_min)\n",
    "            y_max = (y if y > y_max else y_max)\n",
    "\n",
    "        # Crop and save each region segmented by kraken\n",
    "        if crop :\n",
    "            cropped = img_original[y_min:y_max, x_min:x_max].copy()\n",
    "            cropped_img_path = cropping_dir+os.sep+filename[:-4]+\"_\"+str(name_iterator)+\".jpg\"\n",
    "            cv.imwrite(cropped_img_path, cropped)\n",
    "\n",
    "            \"\"\"\n",
    "            # Deprecated due to bad results and time wasting\n",
    "            # OCR cropped image\n",
    "            cropped_im = Image.open(cropped_img_path)\n",
    "\n",
    "            baseline_seg = blla.segment(im) # this takes time\n",
    "\n",
    "            with open(cropped_img_path[:-4]+'.json', 'w') as f:\n",
    "                f.write(str(baseline_seg)+\"\\n\")\n",
    "\n",
    "            pred_it = rpred.rpred(model, cropped_im, baseline_seg)\n",
    "            \"\"\"\n",
    "\n",
    "\n",
    "            with open(cropped_img_path[:-4]+'.gt.txt', 'w') as f:\n",
    "                f.write(predictions[name_iterator-1].prediction+\"\\n\")\n",
    "                print(predictions[name_iterator-1])\n",
    "            print(\"DID >\"+cropped_img_path)\n",
    "\n",
    "        name_iterator +=1\n",
    "\n",
    "    #Show original image with segmentation\n",
    "    #plt.imshow(img)\n",
    "    #plt.show()\n",
    "\n",
    "    cv.imwrite(segmented_img_dir+os.sep+filename[:-4]+\"_segmented.jpg\", img)\n"
   ]
  },
  {
   "cell_type": "code",
   "execution_count": 48,
   "id": "944e54b8",
   "metadata": {},
   "outputs": [
    {
     "name": "stdout",
     "output_type": "stream",
     "text": [
      "Processing : test/oneFile/extract_image/ms1620-2-138.jpg\n",
      "Done processing\n"
     ]
    }
   ],
   "source": [
    "process_images(main_dir, ocr = False, crop = False)"
   ]
  },
  {
   "cell_type": "code",
   "execution_count": null,
   "id": "a4f13257",
   "metadata": {},
   "outputs": [],
   "source": []
  },
  {
   "cell_type": "code",
   "execution_count": 5,
   "id": "25612308",
   "metadata": {},
   "outputs": [
    {
     "name": "stdout",
     "output_type": "stream",
     "text": [
      "3\n"
     ]
    }
   ],
   "source": [
    "def LevenshteinDist(s1, s2) :\n",
    "    m, n = len(s1)+1, len(s2)+1\n",
    "    \n",
    "    D= [[0]*(n) for i in range(m)]\n",
    "    \n",
    "    \"\"\"\n",
    "    for i in range(m) :\n",
    "        D[i][0] = i\n",
    "    for j in range(n) :\n",
    "        D[0][j] = j\n",
    "    \"\"\"    \n",
    "    \n",
    "    for j in range(1,n) :\n",
    "        for i in range(1,m) :\n",
    "            cost = 0 if s1[i-1] == s2[j-1] else 1\n",
    "            D[i][j] = min(\n",
    "                D[i-1][j]+1,  # effacement du nouveau caractère de s1\n",
    "                D[i][j-1]+1,  # insertion dans s2 du nouveau caractère de s1\n",
    "                D[i-1][j-1]+cost) # substitution\n",
    "                \n",
    "    \n",
    "    for i in D:\n",
    "         #print(i)\n",
    "        pass\n",
    "    return D[m-1][n-1]\n",
    "\n",
    "\n",
    "string1 = \"chiens\"\n",
    "string2 = \"niche\"\n",
    "\n",
    "print(LevenshteinDist(string1,string2))"
   ]
  },
  {
   "cell_type": "code",
   "execution_count": 17,
   "id": "756257f9",
   "metadata": {},
   "outputs": [
    {
     "name": "stdout",
     "output_type": "stream",
     "text": [
      "5\n"
     ]
    }
   ],
   "source": [
    "from Levenshtein import distance as levenshtein_distance\n",
    "\n",
    "\n",
    "string1 = \"niche\"\n",
    "string2 = \"chiens\"\n",
    "\n",
    "print(levenshtein_distance(string1,string2))"
   ]
  },
  {
   "cell_type": "code",
   "execution_count": null,
   "id": "86c38325",
   "metadata": {},
   "outputs": [],
   "source": []
  },
  {
   "cell_type": "code",
   "execution_count": null,
   "id": "3f32408f",
   "metadata": {},
   "outputs": [],
   "source": []
  },
  {
   "cell_type": "code",
   "execution_count": null,
   "id": "2c257cef",
   "metadata": {},
   "outputs": [],
   "source": []
  }
 ],
 "metadata": {
  "kernelspec": {
   "display_name": "Python 3 (ipykernel)",
   "language": "python",
   "name": "python3"
  },
  "language_info": {
   "codemirror_mode": {
    "name": "ipython",
    "version": 3
   },
   "file_extension": ".py",
   "mimetype": "text/x-python",
   "name": "python",
   "nbconvert_exporter": "python",
   "pygments_lexer": "ipython3",
   "version": "3.10.6"
  }
 },
 "nbformat": 4,
 "nbformat_minor": 5
}
